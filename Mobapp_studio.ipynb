{
  "cells": [
    {
      "cell_type": "code",
      "execution_count": 3,
      "metadata": {
        "id": "ySLclYLfdpJ6"
      },
      "outputs": [],
      "source": [
        "import numpy as np\n",
        "import pandas as pd"
      ]
    },
    {
      "cell_type": "markdown",
      "metadata": {
        "id": "8YvZ9DZ4eblM"
      },
      "source": [
        "# Loading Dataset"
      ]
    },
    {
      "cell_type": "code",
      "execution_count": null,
      "metadata": {
        "id": "oZlf15G8d9EM"
      },
      "outputs": [],
      "source": [
        "def load_dataset():\n",
        "    df = pd.read_csv('/content/googleplaystore.csv')\n",
        "    return df\n",
        "\n",
        "apps_data = load_dataset()\n",
        "apps_data.sample(10)"
      ]
    },
    {
      "cell_type": "markdown",
      "metadata": {},
      "source": [
        "# Printing summarize dataset"
      ]
    },
    {
      "cell_type": "code",
      "execution_count": null,
      "metadata": {
        "id": "HBGocOlZekw0"
      },
      "outputs": [],
      "source": [
        "def print_summarize_dataset(dataset):\n",
        "    print(\"Dataset dimension:\")\n",
        "    print(dataset.shape)\n",
        "    print(\"First 10 rows of dataset:\")\n",
        "    print(dataset.head(10))\n",
        "    print(\"10 random rows from the data set:\")\n",
        "    print(dataset.sample(10))"
      ]
    },
    {
      "cell_type": "code",
      "execution_count": null,
      "metadata": {},
      "outputs": [],
      "source": []
    }
  ],
  "metadata": {
    "colab": {
      "provenance": []
    },
    "kernelspec": {
      "display_name": "Python 3",
      "name": "python3"
    },
    "language_info": {
      "name": "python"
    }
  },
  "nbformat": 4,
  "nbformat_minor": 0
}
