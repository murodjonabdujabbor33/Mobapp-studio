{
  "cells": [
    {
      "cell_type": "code",
      "execution_count": null,
      "metadata": {
        "id": "ySLclYLfdpJ6"
      },
      "outputs": [],
      "source": [
        "import numpy as np\n",
        "import pandas as pd"
      ]
    },
    {
      "cell_type": "markdown",
      "metadata": {
        "id": "8YvZ9DZ4eblM"
      },
      "source": [
        "# Loading Dataset"
      ]
    },
    {
      "cell_type": "code",
      "execution_count": null,
      "metadata": {
        "id": "oZlf15G8d9EM"
      },
      "outputs": [],
      "source": [
        "def load_dataset():\n",
        "    df = pd.read_csv('/content/googleplaystore.csv')\n",
        "    return df\n",
        "\n",
        "apps_data = load_dataset()\n",
        "apps_data.sample(10)"
      ]
    },
    {
      "cell_type": "markdown",
      "metadata": {},
      "source": [
        "# Printing summarize dataset"
      ]
    },
    {
      "cell_type": "code",
      "execution_count": null,
      "metadata": {
        "id": "HBGocOlZekw0"
      },
      "outputs": [],
      "source": [
        "def print_summarize_dataset(dataset):\n",
        "    print(\"Dataset dimension:\")\n",
        "    print(dataset.shape)\n",
        "    print(\"First 10 rows of dataset:\")\n",
        "    print(dataset.head(10))\n",
        "    print(\"10 random rows from the data set:\")\n",
        "    print(dataset.sample(10))\n",
        "    print(\"Statistical summary:\")\n",
        "    print(dataset.describe())\n",
        "    print(\"Additional informations:\")\n",
        "    print(dataset.info())\n",
        "\n",
        "print_summarize_dataset(apps_data)"
      ]
    },
    {
      "cell_type": "code",
      "execution_count": null,
      "metadata": {},
      "outputs": [],
      "source": []
    }
  ],
  "metadata": {
    "colab": {
      "provenance": []
    },
    "kernelspec": {
      "display_name": "Python 3.10.5 ('03-pipenv-va-django-LKzA0w-Q')",
      "language": "python",
      "name": "python3"
    },
    "language_info": {
      "name": "python",
      "version": "3.10.5"
    },
    "vscode": {
      "interpreter": {
        "hash": "73ee1a003deb978fc785f3edf20e408682d31d0b1c1f402703382c40305bbf0e"
      }
    }
  },
  "nbformat": 4,
  "nbformat_minor": 0
}
